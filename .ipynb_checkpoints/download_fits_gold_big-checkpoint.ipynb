{
 "cells": [
  {
   "cell_type": "code",
   "execution_count": 17,
   "metadata": {},
   "outputs": [
    {
     "ename": "FileNotFoundError",
     "evalue": "[Errno 2] No such file or directory: 'C:\\\\Users\\\\maitr\\\\OneDrive\\\\Desktop\\\\HiWi\\\\ML-for-Astro-tutorial\\\\data\\\\spectral_fits_gold_bigstar\\\\spec-6413-56336-0522.fits'",
     "output_type": "error",
     "traceback": [
      "\u001b[1;31m---------------------------------------------------------------------------\u001b[0m",
      "\u001b[1;31mFileNotFoundError\u001b[0m                         Traceback (most recent call last)",
      "\u001b[1;32m~\\AppData\\Local\\Temp/ipykernel_22876/3644921943.py\u001b[0m in \u001b[0;36m<module>\u001b[1;34m\u001b[0m\n\u001b[0;32m     56\u001b[0m         \u001b[0mtarget_file\u001b[0m \u001b[1;33m=\u001b[0m \u001b[0mos\u001b[0m\u001b[1;33m.\u001b[0m\u001b[0mpath\u001b[0m\u001b[1;33m.\u001b[0m\u001b[0mjoin\u001b[0m\u001b[1;33m(\u001b[0m\u001b[0mtarget_directory\u001b[0m \u001b[1;33m+\u001b[0m \u001b[0mclass_names\u001b[0m\u001b[1;33m[\u001b[0m\u001b[0mi\u001b[0m\u001b[1;33m]\u001b[0m\u001b[1;33m,\u001b[0m \u001b[0mname\u001b[0m\u001b[1;33m[\u001b[0m\u001b[1;36m5\u001b[0m\u001b[1;33m:\u001b[0m\u001b[1;33m]\u001b[0m\u001b[1;33m)\u001b[0m\u001b[1;33m\u001b[0m\u001b[1;33m\u001b[0m\u001b[0m\n\u001b[0;32m     57\u001b[0m \u001b[1;33m\u001b[0m\u001b[0m\n\u001b[1;32m---> 58\u001b[1;33m         \u001b[1;32mwith\u001b[0m \u001b[0mopen\u001b[0m\u001b[1;33m(\u001b[0m\u001b[0mtarget_file\u001b[0m\u001b[1;33m,\u001b[0m\u001b[1;34m'wb'\u001b[0m\u001b[1;33m)\u001b[0m \u001b[1;32mas\u001b[0m \u001b[0mf\u001b[0m\u001b[1;33m:\u001b[0m\u001b[1;33m\u001b[0m\u001b[1;33m\u001b[0m\u001b[0m\n\u001b[0m\u001b[0;32m     59\u001b[0m \u001b[1;33m\u001b[0m\u001b[0m\n\u001b[0;32m     60\u001b[0m             \u001b[0mf\u001b[0m\u001b[1;33m.\u001b[0m\u001b[0mwrite\u001b[0m\u001b[1;33m(\u001b[0m\u001b[0mr\u001b[0m\u001b[1;33m.\u001b[0m\u001b[0mcontent\u001b[0m\u001b[1;33m)\u001b[0m\u001b[1;33m\u001b[0m\u001b[1;33m\u001b[0m\u001b[0m\n",
      "\u001b[1;31mFileNotFoundError\u001b[0m: [Errno 2] No such file or directory: 'C:\\\\Users\\\\maitr\\\\OneDrive\\\\Desktop\\\\HiWi\\\\ML-for-Astro-tutorial\\\\data\\\\spectral_fits_gold_bigstar\\\\spec-6413-56336-0522.fits'"
     ]
    }
   ],
   "source": [
    "import numpy as np\n",
    "import sys\n",
    "import os\n",
    "import subprocess\n",
    "import astropy.io.fits as pyfits\n",
    "\n",
    "sdss_path = 'https://data.sdss.org/sas/dr16/sdss/spectro/redux/26/spectra/'\n",
    "boss_path = 'https://data.sdss3.org/sas/dr12/boss/spectro/redux/v5_7_0/spectra/'\n",
    "\n",
    "from astroquery.sdss import SDSS\n",
    "from astropy.coordinates import SkyCoord  # High-level coordinates\n",
    "from astropy.coordinates import ICRS\n",
    "import astropy.units as u\n",
    "import requests\n",
    "\n",
    "########## Input ##########\n",
    "\n",
    "#target_directory = 'F:\\data\\spectral_fits_gold_big\\\\'\n",
    "#current_dir = os.getcwd()\n",
    "target_directory = os.path.abspath('./data/spectral_fits_gold_big/')\n",
    "class_names = ['star','galaxy', 'QSO', 'AGN'] \n",
    "\n",
    "## Queries für star, galaxy, quasar und AGN\n",
    "query1 = \"SELECT top 3000 plate, mjd, fiberid, class FROM SpecObj WHERE class = 'star' AND zWarning = 0\"\n",
    "query2 = \"SELECT top 3000 plate, mjd, fiberid, class FROM SpecObj WHERE class = 'galaxy' AND subClass != 'AGN' AND zWarning = 0\"\n",
    "query3 = \"SELECT top 3000 plate, mjd, fiberid, class FROM SpecObj WHERE class = 'QSO' AND subClass != 'AGN' AND zWarning = 0\"\n",
    "query4 = \"SELECT top 3000 plate, mjd, fiberid, class FROM SpecObj WHERE subClass = 'AGN' AND zWarning = 0\"\n",
    "\n",
    "########## Program ##########\n",
    "\n",
    "queries = [query1, query2, query3, query4]\n",
    "\n",
    "for i in [0]:\n",
    "\n",
    "    sdss = SDSS.query_sql(queries[i])\n",
    "\n",
    "    speclist  = open('speclist.txt', 'w')\n",
    "\n",
    "    for plate, mjd, fiberid in zip(sdss['plate'],sdss['mjd'],sdss['fiberid']):\n",
    "\n",
    "        speclist.write(\"%04d/spec-%04d-%d-%04d.fits \\n\" %(plate, plate, mjd, fiberid))\n",
    "\n",
    "    speclist.close()\n",
    "\n",
    "    with open('speclist.txt', 'r') as f:\n",
    "\n",
    "        names = f.readlines()\n",
    "\n",
    "    for item in names:\n",
    "\n",
    "        name = item[:-2]\n",
    "        url = sdss_path + name\n",
    "        r = requests.get(url)\n",
    "\n",
    "        #target_file = target_directory + class_names[i] + '\\\\' + name[5:]\n",
    "        target_file = os.path.join(target_directory + class_names[i], name[5:])\n",
    "\n",
    "        with open(target_file,'wb') as f:\n",
    "\n",
    "            f.write(r.content)"
   ]
  },
  {
   "cell_type": "code",
   "execution_count": 18,
   "metadata": {},
   "outputs": [],
   "source": [
    "import requests\n",
    "url = \"https://data.sdss.org/sas/dr16/eboss/spectro/redux/v5_13_0/platelist.fits\"\n",
    "r = requests.get(url)\n",
    "\n",
    "with open(\"platelist.fits\",'wb') as f:\n",
    "    f.write(r.content)\n",
    "    \n"
   ]
  },
  {
   "cell_type": "code",
   "execution_count": null,
   "metadata": {},
   "outputs": [],
   "source": []
  }
 ],
 "metadata": {
  "kernelspec": {
   "display_name": "Python 3 (ipykernel)",
   "language": "python",
   "name": "python3"
  },
  "language_info": {
   "codemirror_mode": {
    "name": "ipython",
    "version": 3
   },
   "file_extension": ".py",
   "mimetype": "text/x-python",
   "name": "python",
   "nbconvert_exporter": "python",
   "pygments_lexer": "ipython3",
   "version": "3.9.7"
  }
 },
 "nbformat": 4,
 "nbformat_minor": 4
}
